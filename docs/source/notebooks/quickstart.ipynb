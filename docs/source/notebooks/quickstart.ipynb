{
 "cells": [
  {
   "cell_type": "code",
   "execution_count": null,
   "metadata": {},
   "outputs": [],
   "source": [
    "# Podium installation\n",
    "! pip install podium-nlp\n",
    "# To install from source instead of the last release, comment the command above and uncomment the following one.\n",
    "# ! pip install git+https://github.com/takelab/podium"
   ]
  },
  {
   "cell_type": "markdown",
   "metadata": {},
   "source": [
    "# Quickstart"
   ]
  },
  {
   "cell_type": "markdown",
   "metadata": {},
   "source": [
    "To get you started with Podium, we will use a sample from a movie review classification dataset stored in a `csv` file named `sample_dataset.csv`:"
   ]
  },
  {
   "cell_type": "code",
   "execution_count": null,
   "metadata": {},
   "outputs": [],
   "source": [
    "text, label\n",
    "Absorbing character study, positive\n",
    "Amazingly lame, negative"
   ]
  },
  {
   "cell_type": "markdown",
   "metadata": {},
   "source": [
    "The header of this dataset defines the names of the input columns (features)."
   ]
  },
  {
   "cell_type": "markdown",
   "metadata": {},
   "source": [
    "## Preprocessing data with Fields"
   ]
  },
  {
   "cell_type": "markdown",
   "metadata": {},
   "source": [
    "Data preprocessing in Podium is done in pipelines called Fields. Each dataset column is mapped to one or more `Field` instances, which handle tokenization and additional data transforms. What **you** need to do is define how input data maps to Fields. "
   ]
  },
  {
   "cell_type": "code",
   "execution_count": null,
   "metadata": {},
   "outputs": [
    {
     "data": {
      "text/plain": [
       "Example({\n",
       "  input_text: (None, ['Amazingly', 'lame', '.']),\n",
       "  target: (None, 'negative')\n",
       "})"
      ]
     },
     "execution_count": null,
     "metadata": {},
     "output_type": "execute_result"
    }
   ],
   "source": [
    "from podium import Field, LabelField, Vocab, TabularDataset\n",
    "# Define Fields for each column\n",
    "text = Field(name='input_text', tokenizer=\"split\", numericalizer=Vocab())\n",
    "label = LabelField(name='target')\n",
    "# Map the column names to Fields\n",
    "fields = {'text': text, 'label': label}\n",
    "\n",
    "dataset = TabularDataset('sample_dataset.csv', fields=fields, format='csv')\n",
    "dataset.finalize_fields()\n",
    "print(dataset[1])"
   ]
  },
  {
   "cell_type": "markdown",
   "metadata": {},
   "source": [
    "In this example, we used the built-in `TabularDataset` loader to load our `csv` dataset. The loader reads the dataset and uses the `fields` dictionary to determine how input data columns map to Fields. Each dataset instance is stored in a `Example`, with the data for each Field stored under that Field's name.\n",
    "\n",
    "You might wonder, why not simply use the input column names from the header to store data in Examples. This is because you might want to map a single input to multiple Fields, like so:"
   ]
  },
  {
   "cell_type": "code",
   "execution_count": null,
   "metadata": {},
   "outputs": [
    {
     "data": {
      "text/plain": [
       "Example({\n",
       "  input: (None, ['Amazingly', 'lame', '.']),\n",
       "  input_chars: (None, ['A', 'm', 'a', 'z', 'i', 'n', 'g', 'l', 'y', ' ', 'l', 'a', 'm', 'e', ' ', '.']),\n",
       "  target: (None, 'negative')\n",
       "})"
      ]
     },
     "execution_count": null,
     "metadata": {},
     "output_type": "execute_result"
    }
   ],
   "source": [
    "text = Field(name='input_text', tokenizer=\"split\", numericalizer=Vocab())\n",
    "char = Field(name='input_chars', tokenizer=list, numericalizer=Vocab())\n",
    "label = LabelField(name='target')\n",
    "fields = {'text': (text, char), 'label': label}\n",
    "\n",
    "dataset_with_chars = TabularDataset('sample_dataset.csv', fields=fields, format='csv')\n",
    "dataset.finalize_fields()\n",
    "print(dataset_with_chars[1])"
   ]
  },
  {
   "cell_type": "markdown",
   "metadata": {},
   "source": [
    "You might wonder what the `None`s we've been seeing represent. For each Field, we store raw and processed data as a tuple. The first element of the tuple is reserved for raw data, by default blank to preserve memory. For a detailed overview of the Field constructor arguments and how to use them, check [Customizing the preprocessing pipeline with Fields](http://takelab.fer.hr/podium/walkthrough.html#fields)."
   ]
  },
  {
   "cell_type": "markdown",
   "metadata": {},
   "source": [
    "## Adding your own preprocessing with hooks"
   ]
  },
  {
   "cell_type": "markdown",
   "metadata": {},
   "source": [
    "The main way to customize data preprocessing in Podium is with functions we call *hooks*.\n",
    "Briefly, hooks are python callables that modify data which passes through Fields. They come in two flavors: pre-tokenization and post-tokenization. Pre-tokenization hooks mdoify only raw data, while post-tokenization hooks modify both raw and tokenized data.\n",
    "\n",
    "Looking at our dataset, we might want to lowercase the data and remove punctuation. We will make lowercasing a pre-tokenization hook and punctuation removal a post-tokenization hook. Please be aware that tokenizers (e.g. `spacy`, `nltk`) are commonly sensitive to word casing so lowercasing might be best done in post-tokenization."
   ]
  },
  {
   "cell_type": "code",
   "execution_count": null,
   "metadata": {},
   "outputs": [],
   "source": [
    "import string\n",
    "class RemovePunct:\n",
    "    def __init__(self):\n",
    "       self.punct = set(string.punctuation)\n",
    "   def __call__(self, raw, tokenized):\n",
    "       \"\"\"Remove punctuation from tokenized data\"\"\"\n",
    "       return raw, [tok for tok in tokenized if tok not in self.punct]\n",
    "\n",
    "def lowercase(raw):\n",
    "   \"\"\"Lowercases the input string\"\"\"\n",
    "   return raw.lower()"
   ]
  },
  {
   "cell_type": "markdown",
   "metadata": {},
   "source": [
    "We can add these hooks to the Field constructor and load the dataset again, appying the new preprocessing:"
   ]
  },
  {
   "cell_type": "code",
   "execution_count": null,
   "metadata": {},
   "outputs": [
    {
     "data": {
      "text/plain": [
       "Example({'input_text': (None, ['amazingly', 'lame']),\n",
       "         'target': (None, 'negative')})"
      ]
     },
     "execution_count": null,
     "metadata": {},
     "output_type": "execute_result"
    }
   ],
   "source": [
    "text = Field(name='input_text', numericalizer=Vocab(),\n",
    "             pretokenize_hooks=[lowercase],\n",
    "             posttokenize_hooks=[RemovePunct()]\n",
    "       )\n",
    "label = LabelField(name='target')\n",
    "fields = {'text': text, 'label': label}\n",
    "filtered_dataset = TabularDataset('sample_dataset.csv', fields=fields, format='csv')\n",
    "filtered_dataset.finalize_fields()\n",
    "print(filtered_dataset[1])"
   ]
  },
  {
   "cell_type": "markdown",
   "metadata": {},
   "source": [
    "For a more detailed overview of what hooks are and how to use them, check out [Customizing the preprocessing pipeline with Fields](http://takelab.fer.hr/podium/walkthrough.html#fields) and [How to interact with Fields](http://takelab.fer.hr/podium/advanced.html#interact_fields)."
   ]
  },
  {
   "cell_type": "markdown",
   "metadata": {},
   "source": [
    "## Mapping tokens to indices"
   ]
  },
  {
   "cell_type": "markdown",
   "metadata": {},
   "source": [
    "Apart from the tokenization, each Field also constructed a `Vocab` instance, which maps tokens to indices."
   ]
  },
  {
   "cell_type": "code",
   "execution_count": null,
   "metadata": {},
   "outputs": [
    {
     "data": {
      "text/plain": [
       "Vocab({specials: ('<UNK>', '<PAD>'), eager: False, is_finalized: True, size: 7})\n",
       "{'<UNK>': 0, '<PAD>': 1, '.': 2, 'Absorbing': 3, 'character': 4, 'study': 5, 'Amazingly': 6, 'lame': 7}"
      ]
     },
     "execution_count": null,
     "metadata": {},
     "output_type": "execute_result"
    }
   ],
   "source": [
    "text_vocab = dataset.field('input_text').vocab\n",
    "print(text_vocab)\n",
    "print(text_vocab.stoi) # String-to-integer"
   ]
  },
  {
   "cell_type": "markdown",
   "metadata": {},
   "source": [
    "When loading data, a Field automatically collects frequencies of tokens and relays them to its Vocab. When signaled, the Vocab constructs a **string-to-integer** (stoi) `dict` and **index-to-string** (itos) `list`. Once `stoi` and `itos` are constructed the Vocab is finalized, cannot be updated and will raise an error if you attempt to do so.\n",
    "The vocabularies are finalized **by you** -- you need to call `Dataset.finalize_fields` which subsequently tells every Field in the dataset to finalize its Vocab, if it has one. Please check [Finalizing vocabularies](http://takelab.fer.hr/podium/walkthrough.html#finalizing_vocab) for a more detailed explanation.\n",
    "\n",
    "Apart from using our `Vocab` class to perform numericalization, you can also pass your own callable which maps tokens to indices. Vocabularies ([The Vocabulary](http://takelab.fer.hr/podium/walkthrough.html#vocab)) contain special tokens, which we designed to be easily customizable ([Special tokens](http://takelab.fer.hr/podium/advanced.html#specials))."
   ]
  },
  {
   "cell_type": "markdown",
   "metadata": {},
   "source": [
    "## Retrieving processed data"
   ]
  },
  {
   "cell_type": "markdown",
   "metadata": {},
   "source": [
    "In case structured preprocessing and data loading is the only thing you need from Podium, you can easily retrieve your data and use it elsewhere. You can obtain a generator for each Field's data through the field name attribute:"
   ]
  },
  {
   "cell_type": "code",
   "execution_count": null,
   "metadata": {},
   "outputs": [
    {
     "data": {
      "text/plain": [
       "[(None, ['Absorbing', 'character', 'study', '.']), (None, ['Amazingly', 'lame', '.'])]"
      ]
     },
     "execution_count": null,
     "metadata": {},
     "output_type": "execute_result"
    }
   ],
   "source": [
    "print(list(dataset.input_text))"
   ]
  },
  {
   "cell_type": "markdown",
   "metadata": {},
   "source": [
    "To obtain the entire dataset in dict-based format, you can use `Dataset.as_dict`, which by default doesn't return raw data:"
   ]
  },
  {
   "cell_type": "code",
   "execution_count": null,
   "metadata": {},
   "outputs": [
    {
     "data": {
      "text/plain": [
       "{'input_text': [(None, ['Absorbing', 'character', 'study', '.']),\n",
       "         (None, ['Amazingly', 'lame', '.'])],\n",
       " 'target': [(None, 'positive'), (None, 'negative')]}"
      ]
     },
     "execution_count": null,
     "metadata": {},
     "output_type": "execute_result"
    }
   ],
   "source": [
    "from pprint import pprint\n",
    "pprint(dataset.as_dict())"
   ]
  },
  {
   "cell_type": "markdown",
   "metadata": {},
   "source": [
    "If you are only after the full numericalized dataset, we've got you covered. Use `Dataset.batch`, which will provide the **entire** dataset as a single numericalized batch."
   ]
  },
  {
   "cell_type": "code",
   "execution_count": null,
   "metadata": {},
   "outputs": [
    {
     "data": {
      "text/plain": [
       "{'input_text': array([[3, 4, 5, 2],\n",
       "     [6, 7, 2, 1]])}\n",
       "{'target': array([[0],\n",
       "       [1]])}"
      ]
     },
     "execution_count": null,
     "metadata": {},
     "output_type": "execute_result"
    }
   ],
   "source": [
    "batch_x, batch_y = dataset.batch(add_padding=True)\n",
    "print(batch_x, batch_y, sep=\"\\n\")"
   ]
  },
  {
   "cell_type": "markdown",
   "metadata": {},
   "source": [
    "We can easily validate that the numericalized instances correspond to the input data:"
   ]
  },
  {
   "cell_type": "code",
   "execution_count": null,
   "metadata": {},
   "outputs": [
    {
     "data": {
      "text/plain": [
       "['Absorbing', 'character', 'study']\n",
       "['Amazingly', 'lame', '<PAD>']"
      ]
     },
     "execution_count": null,
     "metadata": {},
     "output_type": "execute_result"
    }
   ],
   "source": [
    "vocab = dataset.field('input_text').vocab\n",
    "for instance in batch_x.input_text:\n",
    "    print(vocab.reverse_numericalize(instance))"
   ]
  },
  {
   "cell_type": "markdown",
   "metadata": {},
   "source": [
    "Since our example dataset is small, we can set `add_padding=True`, which causes output of each Field to be padded to the same length and packed into a matrix (in this case concretely, a numpy array)."
   ]
  },
  {
   "cell_type": "markdown",
   "metadata": {},
   "source": [
    "> **NOTE:** When obtaining larger datasets as a single batch, we recommend leaving `add_padding=False` (default) or your entire dataset will be padded to the length of the longest instance, causing memory issues.\n",
    "> When set to `False`, the output of each Field will be a list instead of a matrix."
   ]
  },
  {
   "cell_type": "markdown",
   "metadata": {},
   "source": [
    "## Minibatching data"
   ]
  },
  {
   "cell_type": "markdown",
   "metadata": {},
   "source": [
    "If you want to use the data to train a machine learning model, this can also be done with Podium."
   ]
  },
  {
   "cell_type": "code",
   "execution_count": null,
   "metadata": {},
   "outputs": [
    {
     "data": {
      "text/plain": [
       "{'input_text': array([[6, 7, 2, 1],\n",
       "       [3, 4, 5, 2]])}\n",
       "{'target': array([[1],\n",
       "       [0]])}"
      ]
     },
     "execution_count": null,
     "metadata": {},
     "output_type": "execute_result"
    }
   ],
   "source": [
    "from podium import Iterator\n",
    "\n",
    "train_iter = Iterator(dataset, batch_size=2)\n",
    "for batch_x, batch_y in train_iter:\n",
    "    print(batch_x, batch_y, sep=\"\\n\")"
   ]
  },
  {
   "cell_type": "markdown",
   "metadata": {},
   "source": [
    "Each element yielded by Podium iterators is a `tuple` of input data and response variable(s). Response variables can be marked as such by setting `is_target=True` in their Field constructor. Both elements of the tuple are instances of our `Batch` class, a dict-tuple hybrid which unpacks by value rather than by key (as standard python dictionaries do).\n",
    "\n",
    "For a comprehensive overview of data prep for models, check [Iterating over datasets](http://takelab.fer.hr/podium/walkthrough.html#iterating) and the subsequent documentation chapters. For the recommended way of iterating over NLP data, check [Bucketing instances when iterating](http://takelab.fer.hr/podium/advanced.html#bucketing)."
   ]
  }
 ],
 "metadata": {},
 "nbformat": 4,
 "nbformat_minor": 4
}
