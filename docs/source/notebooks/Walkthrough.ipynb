{
 "cells": [
  {
   "cell_type": "markdown",
   "metadata": {},
   "source": [
    "# Walkthrough\n",
    "The core component of Podium is the `podium.Dataset` class, a shallow wrapper which contains instances of a machine learning dataset and the preprocessing pipeline for each data field.\n",
    "\n",
    "Podium datasets come in three flavors:\n",
    "\n",
    "- **Built-in datasets:** Podium contains data load and download functionality for some commonly used datasets in separate classes. See how to load built-in datasets here: Loading built-in datasets.\n",
    "- **Tabular datasets:** Podium allows you to load datasets in standardized format through podium.TabularDataset and podium.arrow.ArrowTabularDataset classes. See how to load tabular datasets here: Loading your custom dataset.\n",
    "  - Regular tabular datasets are memory-backed, while the arrow version is disk-backed.\n",
    "- **HuggingFace datasets:** Podium wraps the popular [huggingface/datasets](https://github.com/huggingface/datasets) library and allows you to convert every 🤗 dataset to a Podium dataset. See how to load 🤗 datasets here: Loading 🤗 datasets.\n",
    "\n",
    "First, however, we will need to install Podium."
   ]
  },
  {
   "cell_type": "code",
   "execution_count": 18,
   "metadata": {},
   "outputs": [
    {
     "name": "stdout",
     "output_type": "stream",
     "text": [
      "Note: you may need to restart the kernel to use updated packages.\n"
     ]
    }
   ],
   "source": [
    "%pip --quiet install http://takelab.fer.hr/podium/releases/podium-1.0.0-py3-none-any.whl"
   ]
  },
  {
   "cell_type": "markdown",
   "metadata": {},
   "source": [
    "<a id='loading_builtin'></a>\n",
    "\n",
    "## Loading built-in datasets\n",
    "One built-in dataset available in Podium is the [Stanford Sentiment Treebank](https://nlp.stanford.edu/sentiment/treebank.html) (SST). In order to load the dataset, it is enough to call the `get_dataset_splits()` method."
   ]
  },
  {
   "cell_type": "code",
   "execution_count": 1,
   "metadata": {},
   "outputs": [
    {
     "name": "stdout",
     "output_type": "stream",
     "text": [
      "SST[Size: 6920, Fields: (Field[name: text, is_target: False, vocab: Vocab[finalized: True, size: 16284]], LabelField[name: label, is_target: True, vocab: Vocab[finalized: True, size: 2]])]\n",
      "Example[text: (None, ['A', 'slick', ',', 'engrossing', 'melodrama', '.']); label: (None, 'positive')]\n"
     ]
    }
   ],
   "source": [
    "from podium.datasets import SST\n",
    "sst_train, sst_test, sst_valid = SST.get_dataset_splits()\n",
    "print(sst_train)\n",
    "print(sst_train[222]) # A short example"
   ]
  },
  {
   "cell_type": "markdown",
   "metadata": {},
   "source": [
    "Each built-in Podium dataset has a `get_dataset_splits()` method, which returns the _train_, _test_ and _validation_ split of that dataset, if available."
   ]
  },
  {
   "cell_type": "markdown",
   "metadata": {},
   "source": [
    "<a id='iterating'></a>\n",
    "\n",
    "## Iterating over datasets\n",
    "Podium contains methods to iterate over data. Let’s take a look at `podium.Iterator`, the simplest data iterator. The default batch size of the iterator is 32 but we will reduce it for the sake of space."
   ]
  },
  {
   "cell_type": "code",
   "execution_count": 2,
   "metadata": {},
   "outputs": [
    {
     "name": "stdout",
     "output_type": "stream",
     "text": [
      "InputBatch(text=array([[ 1390,   193,  3035,    12,     4,   652, 13874,   310,    11,\n",
      "          101, 13875,    12,    31,    14,   729,  1733,     5,     9,\n",
      "          144,  7287,     8,  3656,   193,  7357,   700,     2,     1,\n",
      "            1,     1,     1],\n",
      "       [   29,  1659,   827,     8,    27,     7,  6115,     3,  4635,\n",
      "           63,     3,    19,     4,    55, 15634,   231,   170,     9,\n",
      "          128,    48,   123,   656,   130,   190,  2047,     8,   803,\n",
      "           74,    79,     2]]))\n",
      "TargetBatch(label=array([[1],\n",
      "       [1]]))\n"
     ]
    }
   ],
   "source": [
    "from podium import Iterator\n",
    "train_iter = Iterator(sst_train, batch_size=2)\n",
    "batch_x, batch_y = next(iter(train_iter))\n",
    "print(batch_x, batch_y, sep='\\n')"
   ]
  },
  {
   "cell_type": "markdown",
   "metadata": {},
   "source": [
    "There are a couple of things we need to unpack here. Firstly, our textual input data and class labels were converted to indices. This happened without our intervention – built-in datasets have a default preprocessing pipeline, which handles text tokenization and numericalization. Secondly, while iterating we obtained two _namedtuple_ instances: an `InputBatch` and a `TargetBatch`. By default, Podium Iterators group input and target data Fields during iteration. If your dataset contains multiple input or target fields, they will also be present as attributes of the namedtuples."
   ]
  },
  {
   "cell_type": "markdown",
   "metadata": {},
   "source": [
    "<a id='vocab'></a>\n",
    "\n",
    "## The Vocabulary\n",
    "We saw earlier that our dataset has two Fields: text and label. We will touch on what exactly Fields are later, but for now let’s retrieve and print them out."
   ]
  },
  {
   "cell_type": "code",
   "execution_count": 3,
   "metadata": {},
   "outputs": [
    {
     "name": "stdout",
     "output_type": "stream",
     "text": [
      "Field[name: text, is_target: False, vocab: Vocab[finalized: True, size: 16284]]\n",
      "LabelField[name: label, is_target: True, vocab: Vocab[finalized: True, size: 2]]\n"
     ]
    }
   ],
   "source": [
    "text_field, label_field = sst_train.fields\n",
    "print(text_field, label_field, sep='\\n')"
   ]
  },
  {
   "cell_type": "markdown",
   "metadata": {},
   "source": [
    "Inside each of these two fields we can see a `podium.storage.Vocab` class, which is used for numericalization (converting tokens to indices). A Vocab is mainly defined by two maps: the string-to-index mapping `podium.storage.Vocab.stoi` and the index-to-string mapping `podium.storage.Vocab.itos`.\n",
    "\n",
    "In highligted code block we can see that the Vocab for the `text` field has a size of 16282. The Vocab by default includes all the tokens present in the dataset, whichever their frequency might be. There are two ways to control the size of your vocabulary:\n",
    "\n",
    "1. Setting the minimum frequency (inclusive) for a token to be used in a Vocab: the `podium.storage.Vocab.min_freq` argument\n",
    "2. Setting the maximum size of the Vocab: the `podium.storage.Vocab.max_size` argument\n",
    "\n",
    "You might want to limit the size of your Vocab for larger datasets. To do so, define your own vocabulary as follows:"
   ]
  },
  {
   "cell_type": "code",
   "execution_count": 4,
   "metadata": {},
   "outputs": [],
   "source": [
    "from podium import Vocab\n",
    "small_vocabulary = Vocab(max_size=5000, min_freq=2)"
   ]
  },
  {
   "cell_type": "markdown",
   "metadata": {},
   "source": [
    "In order to use this new Vocab with a dataset, we first need to get familiar with Fields."
   ]
  },
  {
   "cell_type": "markdown",
   "metadata": {},
   "source": [
    "<a id='fields'></a>\n",
    "\n",
    "## Customizing the preprocessing pipeline with Fields\n",
    "Data processing in Podium is wholly encapsulated in the flexible `podium.storage.Field` class. Default Fields for the SST dataset are defined in the `podium.datasets.impl.SST.get_dataset_splits()` method, but you can easily redefine and customize them. We will only scratch the surface of customizing Fields in this section.\n",
    "\n",
    "You can think of Fields as the path your data takes from the input to your model. In order for Fields to be able to process data, you need to which input data columns will pass through which Fields.\n",
    "\n",
    "<img src=\"images/field_visual.png\">\n",
    "\n",
    "Looking at the image, your job is to define the color-coding between input data columns and Fields. If the columns in your dataset are named (as they are in the SST dataset), you should define this mapping as a **dictionary** where the keys are the names of the input data columns, while the values are Fields. The name of the Field affects only the attribute where the data for that Field will be stored, and not the input column! This is due to the fact that it more complex datasets, you might want to map a single input column to multiple Fields.\n",
    "\n",
    "Fields have a number of constructor arguments, only some of which we will enumerate here:\n",
    "\n",
    "- `name` (str): The name under which the Field’s data will be stored in the dataset’s Examples.\n",
    "- `tokenizer` (str | callable | optional): The tokenizer for sequential data. You can pass a string to use a predefined tokenizer or pass a python callable which performs tokenization (e.g. a function or a class which implements `__call__`). For predefined tokenizers, you should follow the name-args argument formatting convention. You can use `'split'` for the `str.split` tokenizer (has no additional args) or `'spacy-en'` for the spacy english tokenizer. If the data Field should not be tokenized, this argument should be None. Defaults to `'split'`.\n",
    "- `numericalizer` (Vocab | callable | optional): The method to convert tokens to indices. Traditionally, this argument should be a Vocab instance but users can define their own numericalization function and pass it as an argument. Custom numericalization can be used when you want to ensure that a certain token has a certain index for consistency with other work. If `None`, numericalization won’t be attempted.\n",
    "- `is_target` (bool): Whether this data Field is a target field (will be used as a label during prediction). This flag serves merely as a convenience, to separate batches into input and target data during iteration.\n",
    "- `fixed_length` (int, optional): Usually, text batches are padded to the maximum length of an instance in batch (default behavior). However, if you are using a fixed-size model (e.g. CNN without pooling) you can use this argument to force each instance of this Field to be of `fixed_length`. Longer instances will be right-truncated, shorter instances will be padded.\n",
    "\n",
    "The SST dataset has two textual data columns (fields): (1) the input text of the movie review and (2) the label. We need to define a `podium.Field` for each of these."
   ]
  },
  {
   "cell_type": "code",
   "execution_count": 8,
   "metadata": {},
   "outputs": [
    {
     "name": "stdout",
     "output_type": "stream",
     "text": [
      "Field[name: text, is_target: False, vocab: Vocab[finalized: False, size: 0]]\n",
      "LabelField[name: label, is_target: True, vocab: Vocab[finalized: False, size: 0]]\n"
     ]
    }
   ],
   "source": [
    "from podium import Field, LabelField\n",
    "text = Field(name='text', numericalizer=small_vocabulary)\n",
    "label = LabelField(name='label')\n",
    "print(text, label, sep='\\n')"
   ]
  },
  {
   "cell_type": "markdown",
   "metadata": {},
   "source": [
    "That’s it! We have defined our Fields. In order for them to be initialized, we need to show them a dataset. For built-in datasets, this is done behind the scenes in the `get_dataset_splits` method. We will elaborate how to do this yourself in Loading your custom dataset."
   ]
  },
  {
   "cell_type": "code",
   "execution_count": 9,
   "metadata": {},
   "outputs": [
    {
     "name": "stdout",
     "output_type": "stream",
     "text": [
      "Vocab[finalized: True, size: 5000]\n"
     ]
    }
   ],
   "source": [
    "fields = {'text': text, 'label': label}\n",
    "sst_train, sst_test, sst_dev = SST.get_dataset_splits(fields=fields)\n",
    "print(small_vocabulary)"
   ]
  },
  {
   "cell_type": "markdown",
   "metadata": {},
   "source": [
    "Our new Vocab has been limited to the 5000 most frequent words. The remaining words will be replaced by the unknown (`<UNK>`) token, which is one of the default _special_ tokens in the Vocab.\n",
    "\n",
    "You might have noticed that we used a different type of Field: `podium.storage.LabelField` for the label. LabelField is one of the predefined custom Field classes with sensible default constructor arguments for its concrete use-case. We’ll take a closer look at LabelFields in the following subsection."
   ]
  },
  {
   "cell_type": "markdown",
   "metadata": {},
   "source": [
    "<a id='label_field'></a>\n",
    "\n",
    "### LabelField\n",
    "A common case in datasets is a data Field which contains a label, represented as a string (e.g. positive/negative, a news document category). For defining such a Field, you would need to set a number of its arguments which would lead to a lot of repetetive code.\n",
    "\n",
    "For convenience, `LabelField` sets the required defaults for you, and all you need to define is its name. LabelFields always have a `fixed_length` of 1, are not tokenized and are by default set as the target for batching.\n",
    "\n",
    "<a id='pretrained_vectors'></a>\n",
    "\n",
    "## Loading pretrained word vectors\n",
    "With most deep learning models, we want to use pre-trained word embeddings. In Podium, this process is very simple. If your field uses a vocabulary, it has already built an inventory of tokens for your dataset.\n",
    "\n",
    "A number of predefined vectorizers are available (`podium.storage.vectorizers.GloVe`, `podium.storage.vectorizers.NlplVectorizer`, `podium.storage.vectorizers.TfIdfVectorizer`), as well as a standardized loader `podium.storage.vectorizers.BasicVectorStorage` for loading word2vec-style format of word embeddings from disk.\n",
    "\n",
    "For example, we will use the [GloVe](https://nlp.stanford.edu/projects/glove/) vectors. The procedure to load these vectors has two steps:\n",
    "\n",
    "1. Initialize the vector class, which sets all the required paths. The vectors are not yet loaded from disk as you usually don’t want to load the full file in memory.\n",
    "2. Obtain vectors for a pre-defined list of words by calling `load_vocab`. The argument can be a `Vocab` object (which is itself an iterable of strings), or any sequence of strings.\n",
    "\n",
    "The output of the function call is a numpy matrix of word embeddings which you can then pass to your model to initialize the embedding matrix or to be used otherwise. The word embeddings are in the same order as the tokens in the Vocab."
   ]
  },
  {
   "cell_type": "code",
   "execution_count": 13,
   "metadata": {},
   "outputs": [
    {
     "name": "stderr",
     "output_type": "stream",
     "text": [
      "100%|██████████| 862M/862M [07:55<00:00, 1.81MB/s]   \n"
     ]
    },
    {
     "name": "stdout",
     "output_type": "stream",
     "text": [
      "For vocabulary of size: 5000 loaded embedding matrix of shape: (5000, 300)\n",
      "Vector for sport: [ 0.34566    0.15934    0.48444   -0.13693    0.18737    0.2678\n",
      " -0.39159    0.4931    -0.76111   -1.4586     0.41475    0.55837\n",
      "  0.021504   0.28509   -0.30284    0.021432   0.071542   0.53333\n",
      "  0.18084   -0.40818   -0.37935    0.86781    0.4492     0.67524\n",
      "  0.052925  -0.42635    0.46103    0.031358   0.5166    -0.081332\n",
      "  0.35399   -0.53411   -0.22646   -0.091881  -0.5428     0.61143\n",
      "  0.67188    0.079147  -0.21608    0.2817     0.22489    0.0087532\n",
      "  0.096962  -0.19739    0.61631    0.19901    0.37232    0.13627\n",
      "  0.18799    0.35549   -0.74315   -0.08624    0.1883    -0.53688\n",
      "  0.082768   0.78362   -0.31835   -0.21211   -0.023984   0.0095728\n",
      "  0.28296    0.30896   -0.38585   -0.55332   -0.66063    0.30262\n",
      " -0.65959    0.25509   -0.55906   -0.3507    -0.11521    0.32024\n",
      " -0.25448    0.12392   -0.22941   -0.30697   -0.073869  -0.021054\n",
      "  0.26082    0.45367    0.32809    0.56492    0.067392  -0.54504\n",
      " -0.45747    0.29705   -0.007364  -0.15747   -0.19674    0.44562\n",
      "  0.10822   -0.010847  -0.020063  -0.54242    0.85393   -0.098667\n",
      "  0.22144   -0.1058     0.08902    0.059909   0.17442    0.34239\n",
      "  0.071011   0.32127    0.099133   0.60742    0.52472   -0.13034\n",
      " -0.10823    0.16208    0.30687   -0.079381   0.046322  -0.96637\n",
      " -0.034772  -0.032899   0.44984   -0.0086    -0.24193    0.067582\n",
      " -0.13938    0.19137    0.46692    0.58191   -0.20529   -0.29932\n",
      " -0.19122    0.47751    0.011554   0.016327   0.14571   -0.29702\n",
      " -0.22549    0.078491  -0.2856     0.027681  -0.050709   0.08904\n",
      " -0.10603    0.5987     0.17281    0.0021526  0.93064   -0.057695\n",
      "  0.17412   -0.31447    0.0025599 -0.079155  -0.08038    0.62715\n",
      "  0.62819    0.25948   -0.25359   -0.38077    0.30185   -0.93266\n",
      " -0.02277    0.40116   -0.0079393 -0.029146   0.2834    -0.42381\n",
      " -0.75231   -0.03341    0.18793   -0.80745   -0.1471     0.12451\n",
      "  0.16207   -0.83302   -0.48239    0.12213   -1.0567     0.60332\n",
      "  0.25437   -0.12537    0.28882   -0.13624    0.16769    0.82878\n",
      "  0.33491    0.57352    0.0038668  0.052082   0.87144   -0.40841\n",
      "  0.0081564  0.0021284 -0.33046   -0.16384   -0.31893   -0.16997\n",
      " -0.24397    0.24522    0.19511   -0.17615   -0.12781    0.61104\n",
      "  0.62262   -0.28578    1.032     -0.24093   -0.072303   0.065576\n",
      " -0.45258   -0.15914    0.27673    0.046784  -0.23509    0.078567\n",
      "  0.18001    0.023338  -0.7807     0.48395   -0.13503    0.15531\n",
      "  0.12585    0.14729   -0.3931    -0.44495   -0.0121    -0.49026\n",
      "  0.33196   -0.63298    0.49953   -0.25245   -0.30707    0.30539\n",
      " -0.0075252  0.1769     0.20692   -0.59478    0.3011    -0.38093\n",
      "  0.36627   -0.05798    0.35727    0.65025   -0.23389   -0.056722\n",
      "  0.35972   -0.15963    0.15001   -0.056637  -0.63519    0.13256\n",
      " -0.4007    -0.19513   -0.27042    0.33505   -0.15308   -0.058018\n",
      " -0.025477  -0.4279     0.013337  -0.26202   -0.012633  -0.34509\n",
      "  0.14835   -0.63398   -0.15411   -0.82738    0.37643    0.11571\n",
      "  0.39404   -0.36529   -0.3185     0.35226   -0.20441    0.10508\n",
      " -0.022458   0.32689   -0.22491   -0.14179    0.79285    0.3091\n",
      " -1.7894    -0.24364    0.33151    0.60022   -0.088763   0.11163\n",
      " -0.1362     0.32127    0.017934  -0.6352    -0.61595   -0.24006\n",
      "  0.13802    0.36619    0.19734    0.35701   -0.42228   -0.25242\n",
      " -0.050651  -0.041129   0.15092    0.22084    0.52252   -0.27224  ]\n"
     ]
    }
   ],
   "source": [
    "from podium.storage.vectorizers import GloVe\n",
    "vocab = fields['text'].vocab\n",
    "glove = GloVe()\n",
    "embeddings = glove.load_vocab(vocab)\n",
    "print(f\"For vocabulary of size: {len(vocab)} loaded embedding matrix of shape: {embeddings.shape}\")\n",
    "# We can obtain vectors for a single word (given the word is loaded) like this:\n",
    "word = \"sport\"\n",
    "print(f\"Vector for {word}: {glove.token_to_vector(word)}\")"
   ]
  },
  {
   "cell_type": "markdown",
   "metadata": {},
   "source": [
    "<a id='tfidf'></a>\n",
    "\n",
    "## Using TF-IDF or count vectorization\n",
    "In the case you wish to use a standard shallow model, Podium also supports TF-IDF or count vectorization. We’ll now briefly demonstrate how to obtain a TF-IDF matrix for your dataset. We will first load the SST dataset with a limited size Vocab in order to not blow up our RAM.\n",
    "\n",
    "As we intend to use the whole dataset at once, we will also set `disable_batch_matrix=True` in the constructor for the text Field. This option will return our dataset as a list of numericalized instances during batching instead of a numpy matrix. The benefit here is that if returned as a numpy matrix, all of the instances have to be padded, using up a lot of memory."
   ]
  },
  {
   "cell_type": "code",
   "execution_count": 14,
   "metadata": {},
   "outputs": [],
   "source": [
    "from podium.datasets import SST\n",
    "from podium import Vocab, Field, LabelField\n",
    "vocab = Vocab(max_size=5000)\n",
    "text = Field(name='text', numericalizer=vocab, disable_batch_matrix=True)\n",
    "label = LabelField(name='label')\n",
    "fields = {'text': text, 'label': label}\n",
    "sst_train, sst_test, sst_valid = SST.get_dataset_splits(fields=fields)"
   ]
  },
  {
   "cell_type": "markdown",
   "metadata": {},
   "source": [
    "Since the Tf-Idf vectorizer needs information from the dataset to compute the inverse document frequency, we first need to fit it on the dataset."
   ]
  },
  {
   "cell_type": "code",
   "execution_count": 15,
   "metadata": {},
   "outputs": [
    {
     "data": {
      "text/plain": [
       "<podium.storage.vectorizers.tfidf.TfIdfVectorizer at 0x7f1b5f10f750>"
      ]
     },
     "execution_count": 15,
     "metadata": {},
     "output_type": "execute_result"
    }
   ],
   "source": [
    "from podium.storage.vectorizers.tfidf import TfIdfVectorizer\n",
    "tfidf_vectorizer = TfIdfVectorizer()\n",
    "tfidf_vectorizer.fit(dataset=sst_train, field=text)"
   ]
  },
  {
   "cell_type": "markdown",
   "metadata": {},
   "source": [
    "Now our vectorizer has seen the dataset as well as the vocabulary and has all the required information to compute Tf-Idf value for each instance. As is standard in using shallow models, we want to convert all of the instances in a dataset to a Tf-Idf matrix which can then be used with a support vector machine (SVM) model."
   ]
  },
  {
   "cell_type": "code",
   "execution_count": 16,
   "metadata": {},
   "outputs": [
    {
     "name": "stdout",
     "output_type": "stream",
     "text": [
      "<class 'scipy.sparse.csr.csr_matrix'> (6920, 4998)\n",
      "  (0, 1658)\t0.617113703893198\n",
      "  (0, 654)\t0.5208201737884445\n",
      "  (0, 450)\t0.5116152860290002\n",
      "  (0, 20)\t0.2515101839877878\n",
      "  (0, 1)\t0.12681755258500052\n",
      "  (0, 0)\t0.08262419651916046\n"
     ]
    }
   ],
   "source": [
    "# Obtain the whole dataset as a batch\n",
    "x, y = sst_train.batch()\n",
    "tfidf_batch = tfidf_vectorizer.transform(x.text)\n",
    "print(type(tfidf_batch), tfidf_batch.shape)\n",
    "print(tfidf_batch[222])"
   ]
  },
  {
   "cell_type": "markdown",
   "metadata": {},
   "source": [
    "The Tf-Idf counts are highly sparse since not all words from the vocabulary are present in every instance. To reduce the memory footprint of count-based numericalization, we store the values in a [SciPy](https://www.scipy.org/) sparse matrix, which can be used in various [scikit-learn](https://scikit-learn.org/stable/) models."
   ]
  },
  {
   "cell_type": "markdown",
   "metadata": {},
   "source": [
    "<a id='loading_custom'></a>\n",
    "\n",
    "## Loading your custom dataset\n",
    "We have covered loading built-in datasets. However, it is often the case that you want to work on a dataset that you either constructed or we have not yet implemented the loading function for. If that dataset is in a simple tabular format, you can use `podium.datasets.TabularDataset`.\n",
    "\n",
    "Let’s take an example of a natural language inference (NLI) dataset. In NLI, datasets have two input fields: the premise and the hypothesis and a single, multi-class label. The first two rows of such a dataset written in comma-separated-values (csv) format could like as follows:"
   ]
  },
  {
   "cell_type": "markdown",
   "metadata": {},
   "source": [
    "> premise,hypothesis,label\n",
    "\n",
    "> A man inspects the uniform of a figure in some East Asian country.,The man is sleeping,contradiction"
   ]
  },
  {
   "cell_type": "markdown",
   "metadata": {},
   "source": [
    "For this dataset, we need to define three Fields. We also might want the fields for _premise_ and _hypothesis_ to share their Vocab."
   ]
  },
  {
   "cell_type": "code",
   "execution_count": null,
   "metadata": {},
   "outputs": [],
   "source": [
    "from podium import TabularDataset, Vocab, Field, LabelField\n",
    "shared_vocab = Vocab()\n",
    "fields = {'premise':   Field('premise', numericalizer=shared_vocab, tokenizer=\"spacy-en\"),\n",
    "          'hypothesis':Field('hypothesis', numericalizer=shared_vocab, tokenizer=\"spacy-en\"),\n",
    "          'label':     LabelField('label')}\n",
    "dataset = TabularDataset('my_dataset.csv', format='csv', fields=fields)\n",
    "print(dataset)\n",
    "print(shared_vocab.itos)"
   ]
  },
  {
   "cell_type": "markdown",
   "metadata": {},
   "source": [
    "<a id='loading_hf'></a>\n",
    "\n",
    "## Loading 🤗 datasets\n",
    "The recently released [huggingface/datasets](https://github.com/huggingface/datasets) library implements a large number of NLP datasets. For your convenience (and not to reimplement data loading for each one of them), we have created a wrapper for 🤗/datasets, which allows you to map all of the 140+ datasets directly to your Podium pipeline.\n",
    "\n",
    "You can load a dataset in 🤗/datasets and then convert it to a Podium dataset as follows:"
   ]
  },
  {
   "cell_type": "code",
   "execution_count": null,
   "metadata": {},
   "outputs": [],
   "source": [
    "from podium import HuggingFaceDatasetConverter as hfd\n",
    "import datasets\n",
    "# Loading a huggingface dataset returns an instance of DatasetDict\n",
    "# which contains the dataset splits (usually: train, valid, test,\n",
    "# but other splits can also be contained such as in the case of IMDB)\n",
    "imdb = datasets.load_dataset('imdb')\n",
    "print(imdb.keys())\n",
    "# We create an adapter for huggingface dataset schema to podium Fields.\n",
    "# These are not yet Podium datasets, but behave as such (you can iterate\n",
    "# over them as if they were).\n",
    "imdb = hfd.from_dataset_dict(imdb)\n",
    "imdb_train, imdb_test, imdb_unsupervised = hfd.from_dataset_dict(imdb).values()\n",
    "print(imdb_train.fields)"
   ]
  },
  {
   "cell_type": "code",
   "execution_count": null,
   "metadata": {},
   "outputs": [],
   "source": []
  }
 ],
 "metadata": {
  "kernelspec": {
   "display_name": "Python 3",
   "language": "python",
   "name": "python3"
  },
  "language_info": {
   "codemirror_mode": {
    "name": "ipython",
    "version": 3
   },
   "file_extension": ".py",
   "mimetype": "text/x-python",
   "name": "python",
   "nbconvert_exporter": "python",
   "pygments_lexer": "ipython3",
   "version": "3.7.4"
  }
 },
 "nbformat": 4,
 "nbformat_minor": 2
}
