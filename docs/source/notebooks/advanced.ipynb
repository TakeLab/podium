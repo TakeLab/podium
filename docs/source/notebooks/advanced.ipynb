{
 "cells": [
  {
   "cell_type": "code",
   "execution_count": null,
   "metadata": {},
   "outputs": [],
   "source": [
    "# Podium installation\n",
    "! pip install podium-nlp\n",
    "# To install from source instead of the last release, comment the command above and uncomment the following one.\n",
    "# ! pip install git+https://github.com/takelab/podium\n",
    "\n",
    "# Additional dependencies required to run this notebook:\n",
    "! pip install transformers spacy\n",
    "! python -m spacy download en_core_web_sm"
   ]
  },
  {
   "cell_type": "markdown",
   "metadata": {},
   "source": [
    "# Podium data flow"
   ]
  },
  {
   "cell_type": "markdown",
   "metadata": {},
   "source": [
    "In Podium, data exists in three states: **raw** (prior to tokenization), **processed** (once the tokenizer and additional postprocessing have been applied) and **numericalized** (converted to indices).\n",
    "\n",
    "The data is processed immediately when the instance is loaded from disk and then stored in the Example class. Each instance of an Example (a shallow wrapper of a python dictionary) contains one instance of the dataset. Both the *raw* and *processed* data are stored as a tuple attribute under the name of the Field in an Example. You can see this in the SST example:"
   ]
  },
  {
   "cell_type": "code",
   "execution_count": null,
   "metadata": {},
   "outputs": [
    {
     "data": {
      "text/plain": [
       "Example({\n",
       "    text: (None, ['A', 'slick', ',', 'engrossing', 'melodrama', '.']),\n",
       "    label: (None, 'positive')\n",
       "})"
      ]
     },
     "execution_count": null,
     "metadata": {},
     "output_type": "execute_result"
    }
   ],
   "source": [
    "from podium.datasets import SST\n",
    "sst_train, sst_dev, sst_test = SST.get_dataset_splits()\n",
    "sst_train.finalize_fields()\n",
    "print(sst_train[222]) "
   ]
  },
  {
   "cell_type": "markdown",
   "metadata": {},
   "source": [
    "We can unpack the Example class with the bracket notation, as you would a dictionary."
   ]
  },
  {
   "cell_type": "code",
   "execution_count": null,
   "metadata": {},
   "outputs": [
    {
     "data": {
      "text/plain": [
       "None ['A', 'slick', ',', 'engrossing', 'melodrama', '.']\n",
       "None positive"
      ]
     },
     "execution_count": null,
     "metadata": {},
     "output_type": "execute_result"
    }
   ],
   "source": [
    "text_raw, text_processed = sst_train[222]['text']\n",
    "label_raw, label_processed = sst_train[222]['label']\n",
    "print(text_raw, text_processed)\n",
    "print(label_raw, label_processed)"
   ]
  },
  {
   "cell_type": "markdown",
   "metadata": {},
   "source": [
    "What are the `None` s? This is the *raw* data, which by default isn't stored in Examples to save memory. If you want to keep the raw data as well (e.g. for future reference), you have to set the `keep_raw=True` in the corresponding Field."
   ]
  },
  {
   "cell_type": "code",
   "execution_count": null,
   "metadata": {},
   "outputs": [
    {
     "data": {
      "text/plain": [
       "('A slick , engrossing melodrama .', ['A', 'slick', ',', 'engrossing', 'melodrama', '.'])"
      ]
     },
     "execution_count": null,
     "metadata": {},
     "output_type": "execute_result"
    }
   ],
   "source": [
    "from podium import Vocab, Field, LabelField\n",
    "text = Field(name='text', numericalizer=Vocab(), keep_raw=True)\n",
    "label = LabelField(name='label')\n",
    "fields = {'text': text, 'label': label}\n",
    "\n",
    "sst_train, sst_dev, sst_test = SST.get_dataset_splits(fields=fields)\n",
    "sst_train.finalize_fields()\n",
    "print(sst_train[222]['text'])"
   ]
  },
  {
   "cell_type": "markdown",
   "metadata": {},
   "source": [
    "We can see that now we also have the pre-tokenized text available to us. In the case of SST this is not very useful because the tokenizer is simply `str.split`, an easyily reversible function. In the case of non-reversible tokenizers (e.g. the ones in `spacy`), you might want to keep the raw instance for future reference."
   ]
  },
  {
   "cell_type": "markdown",
   "metadata": {},
   "source": [
    "<a name='interact_fields' id='interact_fields'></a>"
   ]
  },
  {
   "cell_type": "markdown",
   "metadata": {},
   "source": [
    "# How to interact with Fields"
   ]
  },
  {
   "cell_type": "markdown",
   "metadata": {},
   "source": [
    "In the previous section, we could see that text from the SST dataset is both in uppercase as well as lowercase. Apart from that, we might not want to keep punctuation tokens, which we can also see in the processed data. These are two cases for which we have designed pretokenization and post-tokenization **hooks**.\n",
    "\n",
    "As we mentioned earlier, data in Podium exists in three states: first raw, then processed and finally numericalized. You can intervene and add custom transformations inbetween any of these three states. Functions which modify raw data prior to tokenization are called **pre-tokenization hooks**, while functions which modify processed data prior to numericalization are called **post-tokenization hooks**. We can see the Field process visualized for the text Field in the following image:"
   ]
  },
  {
   "cell_type": "markdown",
   "metadata": {},
   "source": [
    "<img src=\"_static/field_internals.png\" alt=\"Field visualisation\" align=\"center\"/>"
   ]
  },
  {
   "cell_type": "markdown",
   "metadata": {},
   "source": [
    "Pretokenization hooks have the following signature:"
   ]
  },
  {
   "cell_type": "code",
   "execution_count": null,
   "metadata": {},
   "outputs": [],
   "source": [
    "def pretokenizationHook(raw):\n",
    "    raw = do_something(raw)\n",
    "    return raw"
   ]
  },
  {
   "cell_type": "markdown",
   "metadata": {},
   "source": [
    "Each pretokenization hook accepts one argument, the raw data for that instance, and returns one output, the modified raw data. The raw data is then updated accordingly in the Example instance. Posttokenization hooks follow a similar signature:"
   ]
  },
  {
   "cell_type": "code",
   "execution_count": null,
   "metadata": {},
   "outputs": [],
   "source": [
    "def posttokenization_hook(raw, processed):\n",
    "    processed = do_something(raw, processed)\n",
    "    return raw, processed"
   ]
  },
  {
   "cell_type": "markdown",
   "metadata": {},
   "source": [
    "Each post-tokenization hook accepts two arguments, the raw and processed data for that instance and returns two outputs, which are the modified raw and tokenized data. Both of those are then updated in the Example instance for that data Field in each dataset instance.\n",
    "If we want to define some text processing which requires some external attribute (e.g. storing the list of stop words for removing stop words), our hook can be a class as long as it implements the `__call__` method."
   ]
  },
  {
   "cell_type": "code",
   "execution_count": null,
   "metadata": {},
   "outputs": [],
   "source": [
    "class PretokenizationHook:\n",
    "    def __init__(self, metadata):\n",
    "        self.metadata = metadata\n",
    "\n",
    "    def __call__(self, raw):\n",
    "        raw = do_something(raw, metadata)\n",
    "        return raw"
   ]
  },
  {
   "cell_type": "markdown",
   "metadata": {},
   "source": [
    "Let's now define a few concrete hooks and use them in our dataset."
   ]
  },
  {
   "cell_type": "markdown",
   "metadata": {},
   "source": [
    "## Lowercase as a pretokenization hook"
   ]
  },
  {
   "cell_type": "markdown",
   "metadata": {},
   "source": [
    "We will first implement a pretokenization hook which will lowercase our raw data. Please beware that casing might influence your tokenizer, so it might be wiser to implement this as a post-tokenization hook. In our case however, the tokenizer is `str.split`, so we are safe. This hook is going to be very simple:"
   ]
  },
  {
   "cell_type": "code",
   "execution_count": null,
   "metadata": {},
   "outputs": [],
   "source": [
    "def lowercase(raw):\n",
    "    \"\"\"Lowercases the input string\"\"\"\n",
    "    return raw.lower()"
   ]
  },
  {
   "cell_type": "markdown",
   "metadata": {},
   "source": [
    "And we're done! We can now add our hook to the text field either through the `Field.add_pretokenize_hook` method of the Field or through the `pretokenize_hooks` constructor argument. We will first define a post-tokenization hook which removes punctuation and then apply them both to our text Field."
   ]
  },
  {
   "cell_type": "markdown",
   "metadata": {},
   "source": [
    "## Removing punctuation as a post-tokenization hook"
   ]
  },
  {
   "cell_type": "markdown",
   "metadata": {},
   "source": [
    "We will now similarly define a post-tokenization hook to remove punctuation. We will use the punctuation list from python's built-in `str` module, which we will store as an attribute of our hook."
   ]
  },
  {
   "cell_type": "code",
   "execution_count": null,
   "metadata": {},
   "outputs": [],
   "source": [
    "import string\n",
    "class RemovePunct:\n",
    "    def __init__(self):\n",
    "        self.punct = set(string.punctuation)\n",
    "\n",
    "    def __call__(self, raw, tokenized):\n",
    "        \"\"\"Remove punctuation from tokenized data\"\"\"\n",
    "        return raw, [tok for tok in tokenized if tok not in self.punct]"
   ]
  },
  {
   "cell_type": "markdown",
   "metadata": {},
   "source": [
    "## Putting it all together"
   ]
  },
  {
   "cell_type": "code",
   "execution_count": null,
   "metadata": {},
   "outputs": [
    {
     "data": {
      "text/plain": [
       "('a slick , engrossing melodrama .', ['a', 'slick', 'engrossing', 'melodrama'])"
      ]
     },
     "execution_count": null,
     "metadata": {},
     "output_type": "execute_result"
    }
   ],
   "source": [
    "text = Field(name='text', numericalizer=Vocab(), \n",
    "             keep_raw=True,\n",
    "             pretokenize_hooks=[lowercase],\n",
    "             posttokenize_hooks=[RemovePunct()])\n",
    "label = LabelField(name='label')\n",
    "fields = {'text': text, 'label': label}\n",
    "\n",
    "sst_train, sst_dev, sst_test = SST.get_dataset_splits(fields=fields)\n",
    "sst_train.finalize_fields()\n",
    "print(sst_train[222]['text'])"
   ]
  },
  {
   "cell_type": "markdown",
   "metadata": {},
   "source": [
    "We can see that our hooks worked: the raw data was lowercased prior to tokenization, and the punctuation is not present in the processed data. You can similarly define other hooks and pass them as arguments to your Fields. It is important to take care of the order in which you pass the hooks -- they will be executed in the same order as you passed them to the constructor, so take care that you don't modify some aspect of data crucial for your next hook.\n",
    "\n",
    "We have prepared a number of predefined hooks which are ready for you to use. You can see them here: [Hooks](http://takelab.fer.hr/podium/preprocessing.html#predefined-hooks)."
   ]
  },
  {
   "cell_type": "markdown",
   "metadata": {},
   "source": [
    "<a name='specials' id='specials'></a>"
   ]
  },
  {
   "cell_type": "markdown",
   "metadata": {},
   "source": [
    "# Special tokens"
   ]
  },
  {
   "cell_type": "markdown",
   "metadata": {},
   "source": [
    "We have earlier mentioned special tokens, but now is the time to elaborate on what exactly they are. In Podium, each special token is a subclass of the python `str` which also encapsulates the functionality for adding that special token in the tokenized sequence. The `Vocab` handles special tokens differently -- each special token is guaranteed a place in the `Vocab`, which is what makes them... *special*.\n",
    "\n",
    "Since our idea of special tokens was made to be extensible, we will take a brief look at how they are implemented, so we can better understand how to use them. We mentioned that each special token is a subclass of the python string, but there is an intermediary -- the `Special` base class. The `Special` base class implements the following functionality, while still being an instance of a string:\n",
    "\n",
    "  1. Extending the constructor of the special token with a default value functionality. The default value for each special token should be set via the `default_value` class attribute, while if another value is passed upon creation, it will be used.\n",
    "  2. Adds a stub `apply` method which accepts a sequence of tokens and adds the special token to that sequence. In its essence, the apply method is a post-tokenization hook (applied to the tokenized sequence after other post-tokenization hooks) which doesn't see the raw data whose job is to add the special token to the sequence of replace some of the existing tokens with the special token. The special tokens are applied after all post-tokenization hooks in the order they are passed to the `Vocab` constructor. Each concrete implementation of a Special token has to implement this method.\n",
    "  3. Implements singleton-like hash and equality checks. The `Special` class overrides the default hash and equals and instead of checking for string value equality, it checks for *class name equality*. We use this type of check to ensure that each `Vocab` has a single instance of each Special and for simpler referencing and contains checks.\n",
    "\n",
    "There is a number of special tokens used throughout NLP for a number of purposes. The most frequently used ones are the unknown token (UNK), which is used as a catch-all substitute for tokens which are not present in the vocabulary, and the padding token (PAD), which is used to nicely pack variable length sequences into fixed size batch tensors.\n",
    "Alongside these two, common special tokens include the beginning-of-sequence and end-of-sequence tokens (BOS, EOS), the separator token (SEP) and the mask token introduced in BERT (MASK).\n",
    "\n",
    "To better understand how specials work, we will walk through the implementation of one of special tokens implemented in Podium: the beginning-of-sequence (BOS) token."
   ]
  },
  {
   "cell_type": "code",
   "execution_count": null,
   "metadata": {},
   "outputs": [
    {
     "data": {
      "text/plain": [
       "<BOS>"
      ]
     },
     "execution_count": null,
     "metadata": {},
     "output_type": "execute_result"
    }
   ],
   "source": [
    "from podium.vocab import Special\n",
    "class BOS(Special):\n",
    "    token = \"<BOS>\"\n",
    "\n",
    "    def apply(self, sequence):\n",
    "        # Prepend to the sequence\n",
    "        return [self] + sequence\n",
    "\n",
    "bos = BOS()\n",
    "print(bos)"
   ]
  },
  {
   "cell_type": "markdown",
   "metadata": {},
   "source": [
    "This code block is the full implementation of a special token! All we needed to do is set the default value and implement the `apply` function. The default value is `None` by default and if not set, you have to make sure it is passed upon construction, like so:"
   ]
  },
  {
   "cell_type": "code",
   "execution_count": null,
   "metadata": {},
   "outputs": [
    {
     "data": {
      "text/plain": [
       "<MY_BOS>\n",
       "True"
      ]
     },
     "execution_count": null,
     "metadata": {},
     "output_type": "execute_result"
    }
   ],
   "source": [
    "my_bos = BOS(\"<MY_BOS>\")\n",
    "print(my_bos)\n",
    "print(bos == my_bos)"
   ]
  },
  {
   "cell_type": "markdown",
   "metadata": {},
   "source": [
    "We can also see that although we have changed the string representation of the special token, the equality check will still return True due to the `Special` base class changes mentioned earlier.\n",
    "\n",
    "To see the effect of the `apply` method, we will once again take a look at the SST dataset:"
   ]
  },
  {
   "cell_type": "code",
   "execution_count": null,
   "metadata": {},
   "outputs": [
    {
     "data": {
      "text/plain": [
       "(None, ['<BOS>', 'A', 'slick', ',', 'engrossing', 'melodrama', '.'])"
      ]
     },
     "execution_count": null,
     "metadata": {},
     "output_type": "execute_result"
    }
   ],
   "source": [
    "from podium import Vocab, Field, LabelField\n",
    "from podium.datasets import SST\n",
    "\n",
    "vocab = Vocab(specials=(bos))\n",
    "text = Field(name='text', numericalizer=vocab)\n",
    "label = LabelField(name='label')\n",
    "fields = {'text': text, 'label': label}\n",
    "\n",
    "sst_train, sst_dev, sst_test = SST.get_dataset_splits(fields=fields)\n",
    "sst_train.finalize_fields()\n",
    "print(sst_train[222]['text'])"
   ]
  },
  {
   "cell_type": "markdown",
   "metadata": {},
   "source": [
    "Where we can see that the special token was indeed added to the beginning of the tokenized sequence.\n",
    "\n",
    "Finally, it is important to note that there is an implicit distinction between special tokens. The unknown (`UNK`) and padding (`PAD`) special tokens are something we refer to as **core** special tokens, whose functionality is hardcoded in the implementation of the `Vocab` due to them being deeply integrated with the way iterators and numericalization work.\n",
    "The only difference between normal and core specials is that core specials are added to the sequence by other Podium classes (their behavior is hardcoded) instead of by their apply method."
   ]
  },
  {
   "cell_type": "markdown",
   "metadata": {},
   "source": [
    "<a name='custom_numericalization' id='custom_numericalization'></a>"
   ]
  },
  {
   "cell_type": "markdown",
   "metadata": {},
   "source": [
    "# Custom numericalization functions"
   ]
  },
  {
   "cell_type": "markdown",
   "metadata": {},
   "source": [
    "It is often the case you want to use a predefined numericalization function, be it a Vocabulary obtained from another repository or one with functionality which our Vocab doesn't cover.\n",
    "\n",
    "To do that, you should pass your own callable function as the `numericalizer` for the corresponding Field. Please also beware that in this case, you also need to define the padding token index in order for Podium to be able to batch your data. A common example, where you want to use a tokenizer and a numericalization function from a pretrained BERT model using the 🤗 transformers library can be implemented as follows:"
   ]
  },
  {
   "cell_type": "code",
   "execution_count": null,
   "metadata": {},
   "outputs": [
    {
     "data": {
      "text/plain": [
       "(None, ['a', 'slick', ',', 'eng', '##ross', '##ing', 'mel', '##od', '##rama', '.'])"
      ]
     },
     "execution_count": null,
     "metadata": {},
     "output_type": "execute_result"
    }
   ],
   "source": [
    "from transformers import BertTokenizer\n",
    "tokenizer = BertTokenizer.from_pretrained('bert-base-uncased')\n",
    "pad_index = tokenizer.convert_tokens_to_ids(tokenizer.pad_token)\n",
    "\n",
    "subword_field = Field(\"text\",\n",
    "                      padding_token=pad_index,\n",
    "                      tokenizer=tokenizer.tokenize,\n",
    "                      numericalizer=tokenizer.convert_tokens_to_ids)\n",
    "label = LabelField('label')\n",
    "fields = {'text': subword_field, 'label': label}\n",
    "\n",
    "sst_train, sst_dev, sst_test = SST.get_dataset_splits(fields=fields)\n",
    "sst_train.finalize_fields()\n",
    "print(sst_train[222]['text'])"
   ]
  },
  {
   "cell_type": "markdown",
   "metadata": {},
   "source": [
    "# Fields with multiple outputs"
   ]
  },
  {
   "cell_type": "markdown",
   "metadata": {},
   "source": [
    "We have so far covered the case where you have a single input column, tokenize and numericalize it and then use it in your model. What if you want to obtain multiple outputs from the same input text? A common example is obtaining both words and characters for an input sequence. Let's see how we would implement this in Podium:"
   ]
  },
  {
   "cell_type": "code",
   "execution_count": null,
   "metadata": {},
   "outputs": [
    {
     "data": {
      "text/plain": [
       "(None, ['A', 'slick', ',', 'engrossing', 'melodrama', '.'])\n",
       "(None, ['A', ' ', 's', 'l', 'i', 'c', 'k', ' ', ',', ' ', 'e', 'n', 'g', 'r', 'o', 's', 's', 'i', 'n', 'g', ' ', 'm', 'e', 'l', 'o', 'd', 'r', 'a', 'm', 'a', ' ', '.'])"
      ]
     },
     "execution_count": null,
     "metadata": {},
     "output_type": "execute_result"
    }
   ],
   "source": [
    "from podium import Vocab, Field, LabelField\n",
    "from podium.datasets import SST\n",
    "char = Field(name='char', numericalizer=Vocab(), tokenizer=list)\n",
    "text = Field(name='word', numericalizer=Vocab())\n",
    "label = LabelField(name='label')\n",
    "fields = {'text': (char, text), 'label': label}\n",
    "\n",
    "sst_train, sst_dev, sst_test = SST.get_dataset_splits(fields=fields)\n",
    "print(sst_train[222]['word'], sst_train[222]['char'], sep='\\n')"
   ]
  },
  {
   "cell_type": "markdown",
   "metadata": {},
   "source": [
    "You can pass a tuple of Fields under the same input data column key, and all of the Fields will use data from input column with that name. If your output Fields share the (potentially expensive) tokenizer, we have implemented a class that optimized that part of preprocessing for you: the `MultioutputField`."
   ]
  },
  {
   "cell_type": "markdown",
   "metadata": {},
   "source": [
    "## The Multioutput Field"
   ]
  },
  {
   "cell_type": "markdown",
   "metadata": {},
   "source": [
    "Multioutput Fields are *fake* Fields which simply handle the shared pretokenization and tokenization part of the Field processing pipeline and then forward the data to the respective output Fields.\n",
    "\n",
    "One example of such a use-case would be extracting both word tokens as well as their corresponding part-of-speech tags, both to be used as inputs to a model. For this example, we will still use the SST dataset as a demo, but we will use the spacy tokenizer."
   ]
  },
  {
   "cell_type": "code",
   "execution_count": null,
   "metadata": {},
   "outputs": [
    {
     "data": {
      "text/plain": [
       "(None, ['A', 'slick', ',', 'engrossing', 'melodrama', '.'])\n",
       "(None, ['DET', 'ADJ', 'PUNCT', 'VERB', 'NOUN', 'PUNCT'])"
      ]
     },
     "execution_count": null,
     "metadata": {},
     "output_type": "execute_result"
    }
   ],
   "source": [
    "from podium import MultioutputField\n",
    "import spacy\n",
    "\n",
    "# Define hooks to extract raw text and POS tags\n",
    "# from spacy token objects\n",
    "def extract_text_hook(raw, tokenized):\n",
    "    return raw, [token.text for token in tokenized]\n",
    "def extract_pos_hook(raw, tokenized):\n",
    "    return raw, [token.pos_ for token in tokenized]\n",
    "\n",
    "# Define the output Fields and the MultioutputField\n",
    "word = Field(name='word', numericalizer=Vocab(), posttokenize_hooks=[extract_text_hook])\n",
    "pos = Field(name='pos', numericalizer=Vocab(), posttokenize_hooks=[extract_pos_hook])\n",
    "\n",
    "spacy_tokenizer = spacy.load('en_core_web_sm', disable=['parser', 'ner'])\n",
    "text = MultioutputField([word, pos], tokenizer=spacy_tokenizer)\n",
    "\n",
    "label = LabelField(name='label')\n",
    "fields = {'text': text, 'label': label}\n",
    "\n",
    "sst_train, sst_dev, sst_test = SST.get_dataset_splits(fields=fields)\n",
    "print(sst_train[222]['word'], sst_train[222]['pos'], sep='\\n')"
   ]
  },
  {
   "cell_type": "markdown",
   "metadata": {},
   "source": [
    "MultioutputFields accept three parameters upon construction, which encapsulate the first part of the Field processing cycle:\n",
    "\n",
    "  - `output_fields` `(List[Field])`: a sequence of Fields which will map tokenized data to outputs by applying post-tokenization hooks and numericalization.\n",
    "  - `tokenizer` `(str | Callable)`: the tokenizer to use (keyword string or callable function). The same tokenizer will be used prior to passing data to all output Fields.\n",
    "  - `pretokenization_hooks` `(Tuple(Callable))`: a sequence of pretokenization hooks to apply to the raw data.\n",
    "\n",
    "After tokenization, the processed data will be sent to all of the output Fields. Note that only the post-tokenization part of the output fields will be used."
   ]
  },
  {
   "cell_type": "markdown",
   "metadata": {},
   "source": [
    "# Dataset manipulation"
   ]
  },
  {
   "cell_type": "markdown",
   "metadata": {},
   "source": [
    "## Dataset splitting"
   ]
  },
  {
   "cell_type": "markdown",
   "metadata": {},
   "source": [
    "It is often the case we want to somehow manipulate the size of our dataset. One common use-case is that our dataset comes in a single split -- and we wish to segment it into a train, test and perhaps validation split. For this, we have defined a `Dataset.split` function which allows you to split your dataset into arbitrary ratios:"
   ]
  },
  {
   "cell_type": "code",
   "execution_count": null,
   "metadata": {},
   "outputs": [
    {
     "data": {
      "text/plain": [
       "0.5 0.3 0.2"
      ]
     },
     "execution_count": null,
     "metadata": {},
     "output_type": "execute_result"
    }
   ],
   "source": [
    "sst, _, _ = SST.get_dataset_splits()\n",
    "total_size = len(sst)\n",
    "# Pretend we don't have a test and dev split :)\n",
    "sst_train, sst_dev, sst_test = sst.split([5,3,2], random_state=1)\n",
    "print(len(sst_train)/total_size, len(sst_dev)/total_size, len(sst_test)/total_size)"
   ]
  },
  {
   "cell_type": "markdown",
   "metadata": {},
   "source": [
    "As you can notice from the example -- you can define the split sizes as integer ratios and they will be normalized automatically. This type of splitting is done randomly, and there is always the possibility that your splits will have unevenly distributed target labels. We can easily check how evenly are the splits distributed:"
   ]
  },
  {
   "cell_type": "code",
   "execution_count": null,
   "metadata": {},
   "outputs": [
    {
     "data": {
      "text/plain": [
       "{'negative': 0.47803468208092487, 'positive': 0.5219653179190752}\n",
       "{'negative': 0.48458574181117536, 'positive': 0.5154142581888247}\n",
       "{'negative': 0.46965317919075145, 'positive': 0.5303468208092486}"
      ]
     },
     "execution_count": null,
     "metadata": {},
     "output_type": "execute_result"
    }
   ],
   "source": [
    "from collections import Counter\n",
    "def value_distribution(dataset, field='label'):\n",
    "    c = Counter([ex[field][1] for ex in dataset])\n",
    "    Z = sum(c.values())\n",
    "    return {k: v/Z for k, v in c.items()}\n",
    "\n",
    "print(value_distribution(sst_train),\n",
    "      value_distribution(sst_dev),\n",
    "      value_distribution(sst_test),\n",
    "      sep=\"\\n\")"
   ]
  },
  {
   "cell_type": "markdown",
   "metadata": {},
   "source": [
    "If an even label distribution between your splits is something you desire, you can use the _stratified_ split option by providing the name of the field you wish to stratify over:"
   ]
  },
  {
   "cell_type": "code",
   "execution_count": null,
   "metadata": {},
   "outputs": [
    {
     "data": {
      "text/plain": [
       "0.5 0.3 0.2"
      ]
     },
     "execution_count": null,
     "metadata": {},
     "output_type": "execute_result"
    }
   ],
   "source": [
    "sst_train, sst_dev, sst_test = sst.split([5,3,2], stratified=True,\n",
    "                                         strata_field_name='label', random_state=1)\n",
    "print(len(sst_train)/total_size, len(sst_dev)/total_size, len(sst_test)/total_size)"
   ]
  },
  {
   "cell_type": "markdown",
   "metadata": {},
   "source": [
    "As we can see, the sizes of our splits are the same, but in this case the label distribution is more balanced, which we can validate in a similar fashion:"
   ]
  },
  {
   "cell_type": "code",
   "execution_count": null,
   "metadata": {},
   "outputs": [
    {
     "data": {
      "text/plain": [
       "{'negative': 0.47832369942196534, 'positive': 0.5216763005780347}\n",
       "{'negative': 0.47832369942196534, 'positive': 0.5216763005780347}\n",
       "{'negative': 0.47832369942196534, 'positive': 0.5216763005780347}"
      ]
     },
     "execution_count": null,
     "metadata": {},
     "output_type": "execute_result"
    }
   ],
   "source": [
    "print(value_distribution(sst_train),\n",
    "      value_distribution(sst_dev),\n",
    "      value_distribution(sst_test),\n",
    "      sep=\"\\n\")"
   ]
  },
  {
   "cell_type": "markdown",
   "metadata": {},
   "source": [
    "<a name='dataset_concat' id='dataset_concat'></a>"
   ]
  },
  {
   "cell_type": "markdown",
   "metadata": {},
   "source": [
    "## Dataset concatenation"
   ]
  },
  {
   "cell_type": "markdown",
   "metadata": {},
   "source": [
    "Another instance where you would want to manipulate datasets is where you have multiple datasets of the same task type and want to train a single model on the concatenation of those datasets.\n",
    "For this case, we have implemented a helper function which concatenates a given list of datasets and creates a new dataset containing all the instances in the concatenated datasets.\n",
    "\n",
    "There is a certain degree of intervention you need to do here -- the concatenated datasets can have different vocabularies, so you either need to be certain that the vocabularies are equal or provide a new Field which will be constructed on the (processed) values of all datasets.\n",
    "\n",
    "For a simple example, we will take a look at the built-in SST and IMDB datasets:"
   ]
  },
  {
   "cell_type": "code",
   "execution_count": null,
   "metadata": {},
   "outputs": [
    {
     "data": {
      "text/plain": [
       "['positive', 'negative']\n",
       "['positive', 'negative']\n",
       "31920 = 25000 + 6920"
      ]
     },
     "execution_count": null,
     "metadata": {},
     "output_type": "execute_result"
    }
   ],
   "source": [
    "from podium.datasets import IMDB, SST, concat\n",
    "from podium import Field, LabelField, Vocab\n",
    "# Load the datasets\n",
    "imdb_train, imdb_test = IMDB.get_dataset_splits()\n",
    "sst_train, sst_dev, sst_test = SST.get_dataset_splits()\n",
    "\n",
    "# Luckily, both label vocabularies are already equal\n",
    "print(imdb_train.field('label').vocab.itos)\n",
    "print(sst_train.field('label').vocab.itos)\n",
    "# Define a text Field for the concatenated dataset \n",
    "concat_text_field = Field(\"text\", numericalizer=Vocab())\n",
    "sentiment_dataset = concat([imdb_train, sst_train], \n",
    "                           field_overrides={\"text\":concat_text_field})\n",
    "print(f\"{len(sentiment_dataset)} = {len(imdb_train)} + {len(sst_train)}\")"
   ]
  },
  {
   "cell_type": "markdown",
   "metadata": {},
   "source": [
    "There are a few important takeaways here: (1) the concatenated dataset will **only** contain the intersection of Fields from the sub-datasets. The intersection is determined by the **name** of each Field. If one dataset has Fields named `text` and `label`, while the other has Fields named `text`, `label` and `meta`, the concatenated dataset will only contain the `text` and `label` Fields. (2) the Vocabularies for the Fields with the same name **have to be equal**. This is, of course, to avoid the issue where the same word maps to different indices between vocabularies. This is achieveable either by using a shared vocabulary in same Fields of the datasets from the beginning or by defining a `field_override` map, which directs data from the sub-datasets through the new Field.\n",
    "In the latter case, you can use each sub-dataset on their own with independent vocabularies, while the concatenation will have its own, merged vocabulary."
   ]
  },
  {
   "cell_type": "markdown",
   "metadata": {},
   "source": [
    "<a name='bucketing' id='bucketing'></a>"
   ]
  },
  {
   "cell_type": "markdown",
   "metadata": {},
   "source": [
    "# Bucketing instances when iterating"
   ]
  },
  {
   "cell_type": "markdown",
   "metadata": {},
   "source": [
    "When iterating over NLP datasets, it is common that instances in a batch do not have the same length. This is traditionally solved by padding all instances in a batch to the length of the longest instance. Iterating naively over instances with large variance in length will add a lot of padding.\n",
    "\n",
    "For this reason, usage of `BucketIterator` is recommended. The `BucketIterator` uses a lookahead heuristic and sorts the instances based on a user-defined sort function. Let's take a look at a short example:"
   ]
  },
  {
   "cell_type": "code",
   "execution_count": null,
   "metadata": {},
   "outputs": [],
   "source": [
    "from podium import Vocab, Field, LabelField\n",
    "from podium.datasets import SST, IMDB\n",
    "vocab = Vocab()\n",
    "text = Field(name='text', numericalizer=vocab)\n",
    "label = LabelField(name='label')\n",
    "fields = {'text': text, 'label': label}\n",
    "\n",
    "train, valid, test = SST.get_dataset_splits(fields=fields)\n",
    "\n",
    "# Define the iterators and our sort key\n",
    "from podium import Iterator, BucketIterator\n",
    "def instance_length(instance):\n",
    "    # Use the text Field\n",
    "    raw, tokenized = instance.text\n",
    "    return len(tokenized)\n",
    "bucket_iter = BucketIterator(train, batch_size=32, bucket_sort_key=instance_length)"
   ]
  },
  {
   "cell_type": "markdown",
   "metadata": {},
   "source": [
    "The `bucket_sort_key` function defines how the instances in the dataset should be sorted. The method accepts an instance of the dataset, and should return a value which will be used as a sort key in the `BucketIterator`. It might be interesting (and surprising) to see how much space (and time) do we earn by bucketing. We will define a naive iterator on the same dataset and measure the total amount of padding used when iterating over a dataset."
   ]
  },
  {
   "cell_type": "code",
   "execution_count": null,
   "metadata": {},
   "outputs": [
    {
     "data": {
      "text/plain": [
       "For Iterator, padding = 148141 out of 281696 = 52.588961149608096%\n",
       "For BucketIterator, padding = 2125 out of 135680 = 1.5661851415094339%"
      ]
     },
     "execution_count": null,
     "metadata": {},
     "output_type": "execute_result"
    }
   ],
   "source": [
    "import numpy as np\n",
    "vanilla_iter = Iterator(train, batch_size=32)\n",
    "\n",
    "def count_padding(batch, padding_idx):\n",
    "    return np.count_nonzero(batch == padding_idx)\n",
    "padding_index = vocab.get_padding_index()\n",
    "\n",
    "for iterator in (vanilla_iter, bucket_iter):\n",
    "    total_padding = 0\n",
    "    total_size = 0\n",
    "\n",
    "    for batch in iterator:\n",
    "        total_padding += count_padding(batch.text, padding_index)\n",
    "        total_size += batch.text.size\n",
    "    print(f\"For {iterator.__class__.__name__}, padding = {total_padding}\"\n",
    "          f\" out of {total_size} = {total_padding/total_size:.2%}\")"
   ]
  },
  {
   "cell_type": "markdown",
   "metadata": {},
   "source": [
    "As we can see, the difference between using a regular Iterator and a BucketIterator is massive. Not only do we reduce the amount of padding, we have reduced the total amount of tokens processed by about 50%. The SST dataset, however, is a relatively small dataset so this experiment might be a bit biased. Let's take a look at the same statistics for the `IMDB` dataset. After changing the data loading line in the first snippet to:"
   ]
  },
  {
   "cell_type": "markdown",
   "metadata": {},
   "source": [
    "```bash\n",
    "train, test = IMDB.get_dataset_splits(fields=fields)\n",
    "```"
   ]
  },
  {
   "cell_type": "markdown",
   "metadata": {},
   "source": [
    "And re-running the code, we obtain the following, still significant improvement:"
   ]
  },
  {
   "cell_type": "markdown",
   "metadata": {},
   "source": [
    "```bash\n",
    "For Iterator, padding = 13569936 out of 19414616 = 69.89%\n",
    "For BucketIterator, padding = 259800 out of 6104480 = 4.25%\n",
    "```"
   ]
  },
  {
   "cell_type": "markdown",
   "metadata": {},
   "source": [
    "Generally, using bucketing when iterating over your NLP dataset is preferred and will save you quite a bit of processing time."
   ]
  },
  {
   "cell_type": "markdown",
   "metadata": {},
   "source": [
    "# Saving and loading Podium components"
   ]
  },
  {
   "cell_type": "markdown",
   "metadata": {},
   "source": [
    "Preprocessing your dataset is often time-consuming and once you've done it, you wouldn't want to repeat the process. In Podium, we cache your processed and numericalized dataset so neither of these computations has to be done more than once. To ensure you don't have to repeat the potentially expensive preprocessing, all of our base components are picklable.\n",
    "\n",
    "As an example, we will again turn to the SST dataset and some of our previously used hooks:"
   ]
  },
  {
   "cell_type": "code",
   "execution_count": null,
   "metadata": {},
   "outputs": [
    {
     "data": {
      "text/plain": [
       "SST({\n",
       "    size: 6920,\n",
       "    fields: [\n",
       "        Field({\n",
       "            name: 'text',\n",
       "            keep_raw: False,\n",
       "            is_target: False,\n",
       "            vocab: Vocab({specials: ('<UNK>', '<PAD>'), eager: False, is_finalized: True, size: 5000})\n",
       "        }),\n",
       "        LabelField({\n",
       "            name: 'label',\n",
       "            keep_raw: False,\n",
       "            is_target: True,\n",
       "            vocab: Vocab({specials: (), eager: False, is_finalized: True, size: 2})\n",
       "        })\n",
       "    ]\n",
       "})\n",
       "Example({\n",
       "    text: (None, ['A', 'slick', ',', 'engrossing', 'melodrama', '.']),\n",
       "    label: (None, 'positive')\n",
       "})"
      ]
     },
     "execution_count": null,
     "metadata": {},
     "output_type": "execute_result"
    }
   ],
   "source": [
    "from podium import Vocab, Field, LabelField\n",
    "from podium.datasets import SST\n",
    "\n",
    "vocab = Vocab(max_size=5000, min_freq=2)\n",
    "text = Field(name='text', numericalizer=vocab)\n",
    "label = LabelField(name='label')\n",
    "\n",
    "fields = {'text': text, 'label': label}\n",
    "sst_train, sst_dev, sst_test = SST.get_dataset_splits(fields=fields)\n",
    "sst_train.finalize_fields()\n",
    "\n",
    "print(sst_train)\n",
    "print(sst_train[222])"
   ]
  },
  {
   "cell_type": "markdown",
   "metadata": {},
   "source": [
    "Each `Dataset` instance in the SST dataset splits contains `Field`s and a `Vocab`. When we pickle a dataset, we also store those objects. We will now demonstrate how to store (and load) a pickled dataset."
   ]
  },
  {
   "cell_type": "code",
   "execution_count": null,
   "metadata": {},
   "outputs": [
    {
     "data": {
      "text/plain": [
       "Example({\n",
       "    text: (None, ['A', 'slick', ',', 'engrossing', 'melodrama', '.']),\n",
       "    label: (None, 'positive')\n",
       "})"
      ]
     },
     "execution_count": null,
     "metadata": {},
     "output_type": "execute_result"
    }
   ],
   "source": [
    "from pathlib import Path\n",
    "import pickle\n",
    "\n",
    "cache_dir = Path('cache')\n",
    "cache_dir.mkdir()\n",
    "\n",
    "dataset_store_path = cache_dir.joinpath('sst_preprocessed.pkl')\n",
    "\n",
    "# Save the dataset\n",
    "with open(dataset_store_path, 'wb') as outfile:\n",
    "    pickle.dump((sst_train, sst_dev, sst_test), outfile)\n",
    "\n",
    "# Restore the dataset\n",
    "with open(dataset_store_path, 'rb') as infile:\n",
    "    sst_train, sst_dev, sst_test = pickle.load(infile)\n",
    "print(sst_train[222])"
   ]
  },
  {
   "cell_type": "markdown",
   "metadata": {},
   "source": [
    "Each of the components -- `Field`, `Vocab` and `Example` can also be pickled separately. Apart from being able to save and load a `Dataset` and its components, you can also store an `Iterator` mid-iteration and it **will continue on the batch on which you left off**.\n",
    "In case you don't want this behavior and would rather your unpickled iterator starts from the beginning, you can call `Iterator.reset()` which will reset iterator to the start of the dataset."
   ]
  },
  {
   "cell_type": "code",
   "execution_count": null,
   "metadata": {},
   "outputs": [
    {
     "data": {
      "text/plain": [
       "[[  14 1144    9 2955    8   27    4 2956 3752   10  149   62    0   64\n",
       "     5   11   93   10  264    8   85    7    0   72 3753   38 2048 2957\n",
       "     3    0 3754    0   49  778    0    2]]"
      ]
     },
     "execution_count": null,
     "metadata": {},
     "output_type": "execute_result"
    }
   ],
   "source": [
    "from podium import Iterator\n",
    "# Disable shuffling for consistency\n",
    "train_iter = Iterator(sst_train, batch_size=1, shuffle=False)\n",
    "\n",
    "batch = next(iter(train_iter))\n",
    "print(batch.text)\n",
    "iterator_store_path = cache_dir.joinpath('sst_train_iter.pkl')\n",
    "with open(iterator_store_path, 'wb') as outfile:\n",
    "    pickle.dump((train_iter), outfile)\n",
    "\n",
    "with open(iterator_store_path, 'rb') as infile:\n",
    "    train_iter_restore = pickle.load(infile)"
   ]
  },
  {
   "cell_type": "markdown",
   "metadata": {},
   "source": [
    "Now that we have loaded our Iterator, we can validate whether the loaded version will continue where the initial one left off:"
   ]
  },
  {
   "cell_type": "code",
   "execution_count": null,
   "metadata": {},
   "outputs": [
    {
     "data": {
      "text/plain": [
       "True\n",
       "True"
      ]
     },
     "execution_count": null,
     "metadata": {},
     "output_type": "execute_result"
    }
   ],
   "source": [
    "restored_batch = next(iter(train_iter_restore))\n",
    "batch = next(iter(train_iter))\n",
    "\n",
    "import numpy as np\n",
    "print(np.array_equal(batch.text, restored_batch.text))\n",
    "print(np.array_equal(batch.label, restored_batch.label))"
   ]
  },
  {
   "cell_type": "markdown",
   "metadata": {},
   "source": [
    "Of course, in case you want to start over, just call `Iterator.reset()` and the iteration will start from the beginning."
   ]
  }
 ],
 "metadata": {},
 "nbformat": 4,
 "nbformat_minor": 4
}
