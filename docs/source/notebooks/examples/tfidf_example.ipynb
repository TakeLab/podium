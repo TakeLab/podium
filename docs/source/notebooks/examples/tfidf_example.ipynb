{
 "cells": [
  {
   "cell_type": "code",
   "execution_count": null,
   "metadata": {},
   "outputs": [],
   "source": [
    "# Podium installation\n",
    "! pip install podium-nlp\n",
    "# To install from source instead of the last release, comment the command above and uncomment the following one.\n",
    "# ! pip install git+https://github.com/takelab/podium"
   ]
  },
  {
   "cell_type": "markdown",
   "metadata": {},
   "source": [
    "# TFIDF + scikit-learn SVM"
   ]
  },
  {
   "cell_type": "markdown",
   "metadata": {},
   "source": [
    "In this example, we will cover a once popular family of models -- support vector machines (SVMs) with TF-IDF representations. As a simple example, we will analyse binary classification on the Stanford sentiment treebank (SST) dataset.\n",
    "\n",
    "First, we will implement a minimalistic example without much additional preprocessing. Since we're using TFIDF representation of our dataset, it is smart to limit the size of the vocabulary as each word needs to be present in the instance TFIDF representation. Let's load the SST dataset and convert it into a single batch:"
   ]
  },
  {
   "cell_type": "code",
   "execution_count": null,
   "metadata": {},
   "outputs": [],
   "source": [
    "from podium import Vocab, Field, LabelField\n",
    "from podium.datasets import SST\n",
    "vocab = Vocab(max_size=5000, specials=())\n",
    "text = Field(name='text', numericalizer=vocab, disable_batch_matrix=True)\n",
    "label = LabelField(name='label')\n",
    "fields = {'text': text, 'label': label}\n",
    "train, dev, test = SST.get_dataset_splits(fields=fields)\n",
    "train.finalize_fields()\n",
    "x, y = train.batch(add_padding=True)"
   ]
  },
  {
   "cell_type": "markdown",
   "metadata": {},
   "source": [
    "We have now loaded our dataset, finalized its Fields and obtained it as a batch of input and target data. What we need to do next is define the TF-IDF vectorization for each instance in the dataset. This is done by using our `TfIdfVectorizer`, which adapts the `scikit-learn` vectorizer to the Podium input data."
   ]
  },
  {
   "cell_type": "code",
   "execution_count": null,
   "metadata": {},
   "outputs": [
    {
     "data": {
      "text/plain": [
       "<class 'scipy.sparse.csr.csr_matrix'> (6920, 5000)"
      ]
     },
     "execution_count": null,
     "metadata": {},
     "output_type": "execute_result"
    }
   ],
   "source": [
    "from podium.vectorizers import TfIdfVectorizer\n",
    "tfidf_vectorizer = TFIdfVectorizer()\n",
    "tfidf_vectorizer.fit(train, field=train.field('text'))\n",
    "tfidf_x = tfidf_vectorizer.transform(x.text)\n",
    "print(type(tfidf_batch), tfidf_batch.shape)"
   ]
  },
  {
   "cell_type": "markdown",
   "metadata": {},
   "source": [
    "We have transformed the train dataset to a sparse matrix containing TF-IDF values for each word in the vocabulary in each instance. What is left to do now is to train our classification model:"
   ]
  },
  {
   "cell_type": "code",
   "execution_count": null,
   "metadata": {},
   "outputs": [
    {
     "data": {
      "text/plain": [
       "Accuracy on train set: 0.9597"
      ]
     },
     "execution_count": null,
     "metadata": {},
     "output_type": "execute_result"
    }
   ],
   "source": [
    "from sklearn.svm import LinearSVC\n",
    "from sklearn.metrics import accuracy_score\n",
    "# Train the SVM on the training set\n",
    "svm = LinearSVC()\n",
    "svm.fit(tfidf_batch, y.label.ravel())\n",
    "# Obtain accuracy on the train set\n",
    "y_hat = svm.predict(tfidf_batch)\n",
    "acc = accuracy_score(y_hat, y.label.ravel())\n",
    "print(f\"Accuracy on the train set: {acc:.4f}\")"
   ]
  },
  {
   "cell_type": "markdown",
   "metadata": {},
   "source": [
    "And for a more accurate performance evaluation of our model we turn to the test set:"
   ]
  },
  {
   "cell_type": "code",
   "execution_count": null,
   "metadata": {},
   "outputs": [
    {
     "data": {
      "text/plain": [
       "Accuracy on the test set: 0.7946"
      ]
     },
     "execution_count": null,
     "metadata": {},
     "output_type": "execute_result"
    }
   ],
   "source": [
    "test_x, test_y = test.batch()\n",
    "tfidf_test_batch = tfidf_vectorizer.transform(test_x.text)\n",
    "y_test_hat = svm.predict(tfidf_test_batch)\n",
    "acc = accuracy_score(y_test_hat, test_y.label.ravel())\n",
    "print(f\"Accuracy on the test set: {acc:.4f}\")"
   ]
  },
  {
   "cell_type": "markdown",
   "metadata": {},
   "source": [
    "Our basic unigram TF-IDF linear SVM performs pretty well on the SST dataset, reaching accuracy of almost `0.8`. While this example encapsulates the basics of using Podium with `scikit-learn`s `SVM`, we will delve a bit deeper and consider some additional preprocessing."
   ]
  },
  {
   "cell_type": "markdown",
   "metadata": {},
   "source": [
    "## Using ngram features"
   ]
  },
  {
   "cell_type": "markdown",
   "metadata": {},
   "source": [
    "We have only considered basic unigram features for our model, and this is somewhat prohibitive. Apart from that, we have not implemented any preprocessing for our dataset, and our dataset is cased -- which might be detrimental for the performance of our model since we agressively trim the vocabulary size.\n",
    "\n",
    "We will do two things: (1) implement a pre-tokenization hook to lowercase our data, which in our case is fine as we are using the case-insensitive `str.split` as a tokenizer, and (2) implement ngram extraction as a post-tokenization hook. For a more detailed overview of hooks and how to use them, check [Customizing the preprocessing pipeline with Fields](http://takelab.fer.hr/podium/walkthrough.html#fields). We will first implement our lowercase hook:"
   ]
  },
  {
   "cell_type": "code",
   "execution_count": null,
   "metadata": {},
   "outputs": [],
   "source": [
    "def lowercase(raw):\n",
    "  \"\"\"Lowercases the input string\"\"\"\n",
    "  return raw.lower()"
   ]
  },
  {
   "cell_type": "markdown",
   "metadata": {},
   "source": [
    "And then implement flexible ngram extraction where the `n` is an interval using `nltk`s `ngrams` function:"
   ]
  },
  {
   "cell_type": "code",
   "execution_count": null,
   "metadata": {},
   "outputs": [],
   "source": [
    "from ntlk import ngrams\n",
    "class NGramHook:\n",
    "  # Transforms a sequence of unigrams into a sequence of\n",
    "  # [min_n, max_n]-grams\n",
    "  def __init__(self, min_n, max_n):\n",
    "    self.min_n = min_n\n",
    "    self.max_n = max_n\n",
    "  def __call__(self, raw, tokenized):\n",
    "    tokenized_ngrams = []\n",
    "    for n in range(self.min_n, self.max_n+1):\n",
    "       tokenized_ngrams.extend(ngrams(tokenized, n))\n",
    "    return raw, tokenized_ngrams"
   ]
  },
  {
   "cell_type": "markdown",
   "metadata": {},
   "source": [
    "We will now incorporate these two hooks into our text input Field:"
   ]
  },
  {
   "cell_type": "code",
   "execution_count": null,
   "metadata": {},
   "outputs": [
    {
     "data": {
      "text/plain": [
       "                 disable_batch_matrix=True,\n",
       "                 pretokenization_hooks=[lowercase],\n",
       "                 posttokenization_hooks=[ngram_hook]\n",
       "                 )\n",
       "[('at',), ('from',), ('one',), ('have',), ('I',), ('like',), ('his',), ('in', 'the'), ('all',), (\"'\",)]"
      ]
     },
     "execution_count": null,
     "metadata": {},
     "output_type": "execute_result"
    }
   ],
   "source": [
    "# Use [1-3]grams, inclusive\n",
    "ngram_hook = NGramHook(1,3)\n",
    "vocab = Vocab(max_size=5000, specials=())\n",
    "text = Field(name='text', numericalizer=vocab, \n",
    "label = LabelField(name='label')\n",
    "fields = {'text': text, 'label': label}\n",
    "train, dev, test = SST.get_dataset_splits(fields=fields)\n",
    "train.finalize_fields()\n",
    "print(text.vocab.itos[40:50])"
   ]
  },
  {
   "cell_type": "markdown",
   "metadata": {},
   "source": [
    "We can see that our new Vocab now contains tuples as its tokens -- as long as an item in a sequence is hashable, we can represent it as part of a Vocab! We can see that one 2-gram `('in', 'the')` has made its way into the 50 most frequent tokens.\n",
    "\n",
    "As before, we need to train the TFIDF vectorizer and apply it to our data (which now includes 1-, 2- and 3-grams):"
   ]
  },
  {
   "cell_type": "code",
   "execution_count": null,
   "metadata": {},
   "outputs": [
    {
     "data": {
      "text/plain": [
       "<class 'scipy.sparse.csr.csr_matrix'> (6920, 5000)"
      ]
     },
     "execution_count": null,
     "metadata": {},
     "output_type": "execute_result"
    }
   ],
   "source": [
    "dataset_batch = train.batch(add_padding=True)\n",
    "tfidf_vectorizer = TfIdfVectorizer()\n",
    "tfidf_vectorizer.fit(train, field=train.field('text'))\n",
    "tfidf_batch = tfidf_vectorizer.transform(dataset_batch.text)\n",
    "print(type(tfidf_batch), tfidf_batch.shape)"
   ]
  },
  {
   "cell_type": "markdown",
   "metadata": {},
   "source": [
    "We can now train our SVM classification model and evaluate it on the train and test set:"
   ]
  },
  {
   "cell_type": "code",
   "execution_count": null,
   "metadata": {},
   "outputs": [
    {
     "data": {
      "text/plain": [
       "Accuracy on the train set: 0.9575\n",
       "Accuracy on the test set: 0.7743"
      ]
     },
     "execution_count": null,
     "metadata": {},
     "output_type": "execute_result"
    }
   ],
   "source": [
    "svm = LinearSVC()\n",
    "text, label = dataset_batch\n",
    "svm.fit(tfidf_batch, label.ravel())\n",
    "# Compute accuracy on the train set\n",
    "y_hat = svm.predict(tfidf_batch)\n",
    "acc = accuracy_score(y_hat, label.ravel())\n",
    "print(f\"Accuracy on the train set: {acc:.4f}\")\n",
    "\n",
    "# Compute accuracy on the test set\n",
    "test_text, test_label = test.batch(add_padding=True)\n",
    "tfidf_test_batch = tfidf_vectorizer.transform(test_text)\n",
    "y_test_hat = svm.predict(tfidf_test_batch)\n",
    "acc = accuracy_score(y_test_hat, test_label.ravel())\n",
    "print(f\"Accuracy on the test set: {acc:.4f}\")"
   ]
  },
  {
   "cell_type": "markdown",
   "metadata": {},
   "source": [
    "Sadly, our new model didn't perform better than our initial one on the train set, but there are many avenues we can try further, such as tuning the hyperparameters of the LinearSVC model on the development set or filtering out stop words and punctuation. We encourage you to open this example in Colab and try some things yourself!"
   ]
  }
 ],
 "metadata": {},
 "nbformat": 4,
 "nbformat_minor": 4
}
